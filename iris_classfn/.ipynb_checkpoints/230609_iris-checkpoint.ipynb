{
 "cells": [
  {
   "cell_type": "code",
   "execution_count": 1,
   "id": "7d32b99a",
   "metadata": {},
   "outputs": [],
   "source": [
    "import pandas as pd\n",
    "import numpy as np\n",
    "import tensorflow as tf"
   ]
  },
  {
   "cell_type": "code",
   "execution_count": 2,
   "id": "ffab923e",
   "metadata": {},
   "outputs": [],
   "source": [
    "train_path = tf.keras.utils.get_file('iris_training.csv','https://storage.googleapis.com/download.tensorflow.org/data/iris_training.csv')"
   ]
  },
  {
   "cell_type": "code",
   "execution_count": 3,
   "id": "67b86772",
   "metadata": {},
   "outputs": [],
   "source": [
    "test_path = tf.keras.utils.get_file('iris_test.csv','https://storage.googleapis.com/download.tensorflow.org/data/iris_test.csv')"
   ]
  },
  {
   "cell_type": "code",
   "execution_count": 4,
   "id": "51f5229d",
   "metadata": {},
   "outputs": [],
   "source": [
    "CSV_col_names = ['SepalLength','SepalWidth','PetalLength','PetalWidth','Species']\n",
    "SPECIES = ['Setosa','Versicolor','Virginica']"
   ]
  },
  {
   "cell_type": "code",
   "execution_count": 5,
   "id": "a2f2be84",
   "metadata": {},
   "outputs": [],
   "source": [
    "train = pd.read_csv(train_path, names = CSV_col_names, header =0)\n",
    "test = pd.read_csv(test_path, names = CSV_col_names, header = 0) \n",
    "#here we use keras (a module inside tf) to grab our dataset and read them into pandas df"
   ]
  },
  {
   "cell_type": "code",
   "execution_count": 6,
   "id": "af611cae",
   "metadata": {},
   "outputs": [
    {
     "data": {
      "text/html": [
       "<div>\n",
       "<style scoped>\n",
       "    .dataframe tbody tr th:only-of-type {\n",
       "        vertical-align: middle;\n",
       "    }\n",
       "\n",
       "    .dataframe tbody tr th {\n",
       "        vertical-align: top;\n",
       "    }\n",
       "\n",
       "    .dataframe thead th {\n",
       "        text-align: right;\n",
       "    }\n",
       "</style>\n",
       "<table border=\"1\" class=\"dataframe\">\n",
       "  <thead>\n",
       "    <tr style=\"text-align: right;\">\n",
       "      <th></th>\n",
       "      <th>SepalLength</th>\n",
       "      <th>SepalWidth</th>\n",
       "      <th>PetalLength</th>\n",
       "      <th>PetalWidth</th>\n",
       "      <th>Species</th>\n",
       "    </tr>\n",
       "  </thead>\n",
       "  <tbody>\n",
       "    <tr>\n",
       "      <th>0</th>\n",
       "      <td>6.4</td>\n",
       "      <td>2.8</td>\n",
       "      <td>5.6</td>\n",
       "      <td>2.2</td>\n",
       "      <td>2</td>\n",
       "    </tr>\n",
       "    <tr>\n",
       "      <th>1</th>\n",
       "      <td>5.0</td>\n",
       "      <td>2.3</td>\n",
       "      <td>3.3</td>\n",
       "      <td>1.0</td>\n",
       "      <td>1</td>\n",
       "    </tr>\n",
       "    <tr>\n",
       "      <th>2</th>\n",
       "      <td>4.9</td>\n",
       "      <td>2.5</td>\n",
       "      <td>4.5</td>\n",
       "      <td>1.7</td>\n",
       "      <td>2</td>\n",
       "    </tr>\n",
       "    <tr>\n",
       "      <th>3</th>\n",
       "      <td>4.9</td>\n",
       "      <td>3.1</td>\n",
       "      <td>1.5</td>\n",
       "      <td>0.1</td>\n",
       "      <td>0</td>\n",
       "    </tr>\n",
       "    <tr>\n",
       "      <th>4</th>\n",
       "      <td>5.7</td>\n",
       "      <td>3.8</td>\n",
       "      <td>1.7</td>\n",
       "      <td>0.3</td>\n",
       "      <td>0</td>\n",
       "    </tr>\n",
       "  </tbody>\n",
       "</table>\n",
       "</div>"
      ],
      "text/plain": [
       "   SepalLength  SepalWidth  PetalLength  PetalWidth  Species\n",
       "0          6.4         2.8          5.6         2.2        2\n",
       "1          5.0         2.3          3.3         1.0        1\n",
       "2          4.9         2.5          4.5         1.7        2\n",
       "3          4.9         3.1          1.5         0.1        0\n",
       "4          5.7         3.8          1.7         0.3        0"
      ]
     },
     "execution_count": 6,
     "metadata": {},
     "output_type": "execute_result"
    }
   ],
   "source": [
    "train.head()"
   ]
  },
  {
   "cell_type": "code",
   "execution_count": 7,
   "id": "f2d8e8f6",
   "metadata": {},
   "outputs": [],
   "source": [
    "y_train = train.pop('Species')\n",
    "y_test = test.pop(\"Species\")"
   ]
  },
  {
   "cell_type": "code",
   "execution_count": 8,
   "id": "c1c8a9c0",
   "metadata": {},
   "outputs": [
    {
     "data": {
      "text/plain": [
       "(120, 4)"
      ]
     },
     "execution_count": 8,
     "metadata": {},
     "output_type": "execute_result"
    }
   ],
   "source": [
    "train.shape"
   ]
  },
  {
   "cell_type": "markdown",
   "id": "082d9e6b",
   "metadata": {},
   "source": [
    "Input Function"
   ]
  },
  {
   "cell_type": "code",
   "execution_count": 9,
   "id": "70392fca",
   "metadata": {},
   "outputs": [],
   "source": [
    "def input_fn(features, labels, training = True, batch_size = 256):\n",
    "    #converts input to a dataset\n",
    "    dataset = tf.data.Dataset.from_tensor_slices((dict(features), labels))\n",
    "    \n",
    "    #Shuffle and repeat if you are in training mode\n",
    "    if training:\n",
    "        dataset= dataset.shuffle(1000).repeat()\n",
    "        \n",
    "    return dataset.batch(batch_size)"
   ]
  },
  {
   "cell_type": "code",
   "execution_count": 10,
   "id": "522a0981",
   "metadata": {},
   "outputs": [
    {
     "name": "stdout",
     "output_type": "stream",
     "text": [
      "[NumericColumn(key='SepalLength', shape=(1,), default_value=None, dtype=tf.float32, normalizer_fn=None), NumericColumn(key='SepalWidth', shape=(1,), default_value=None, dtype=tf.float32, normalizer_fn=None), NumericColumn(key='PetalLength', shape=(1,), default_value=None, dtype=tf.float32, normalizer_fn=None), NumericColumn(key='PetalWidth', shape=(1,), default_value=None, dtype=tf.float32, normalizer_fn=None)]\n"
     ]
    }
   ],
   "source": [
    "feature_cols = []\n",
    "for key in train.keys():\n",
    "    feature_cols.append(tf.feature_column.numeric_column(key=key))\n",
    "print(feature_cols)"
   ]
  },
  {
   "cell_type": "markdown",
   "id": "d959251a",
   "metadata": {},
   "source": [
    "Build the Model"
   ]
  },
  {
   "cell_type": "code",
   "execution_count": 13,
   "id": "7d7e8c5e",
   "metadata": {},
   "outputs": [
    {
     "name": "stdout",
     "output_type": "stream",
     "text": [
      "INFO:tensorflow:Using default config.\n",
      "WARNING:tensorflow:Using temporary folder as model directory: /var/folders/lz/0jd9p3ss3417vd872nl5rdt40000gn/T/tmps3xcle8b\n",
      "INFO:tensorflow:Using config: {'_model_dir': '/var/folders/lz/0jd9p3ss3417vd872nl5rdt40000gn/T/tmps3xcle8b', '_tf_random_seed': None, '_save_summary_steps': 100, '_save_checkpoints_steps': None, '_save_checkpoints_secs': 600, '_session_config': allow_soft_placement: true\n",
      "graph_options {\n",
      "  rewrite_options {\n",
      "    meta_optimizer_iterations: ONE\n",
      "  }\n",
      "}\n",
      ", '_keep_checkpoint_max': 5, '_keep_checkpoint_every_n_hours': 10000, '_log_step_count_steps': 100, '_train_distribute': None, '_device_fn': None, '_protocol': None, '_eval_distribute': None, '_experimental_distribute': None, '_experimental_max_worker_delay_secs': None, '_session_creation_timeout_secs': 7200, '_checkpoint_save_graph_def': True, '_service': None, '_cluster_spec': ClusterSpec({}), '_task_type': 'worker', '_task_id': 0, '_global_id_in_cluster': 0, '_master': '', '_evaluation_master': '', '_is_chief': True, '_num_ps_replicas': 0, '_num_worker_replicas': 1}\n"
     ]
    }
   ],
   "source": [
    "#Building DNN with 2 hidden layers with 30 and 10 nodes each\n",
    "classifier = tf.estimator.DNNClassifier(feature_columns = feature_cols, hidden_units = [30,10],n_classes = 3)\n",
    "#the model must choose between 3 classes\n",
    "\n"
   ]
  },
  {
   "cell_type": "markdown",
   "id": "dd1ffd0f",
   "metadata": {},
   "source": [
    "Training"
   ]
  },
  {
   "cell_type": "code",
   "execution_count": 14,
   "id": "b6761189",
   "metadata": {},
   "outputs": [
    {
     "name": "stdout",
     "output_type": "stream",
     "text": [
      "WARNING:tensorflow:From /Users/mathews/opt/anaconda3/lib/python3.8/site-packages/tensorflow/python/training/training_util.py:235: Variable.initialized_value (from tensorflow.python.ops.variables) is deprecated and will be removed in a future version.\n",
      "Instructions for updating:\n",
      "Use Variable.read_value. Variables in 2.X are initialized automatically both in eager and graph (inside tf.defun) contexts.\n",
      "INFO:tensorflow:Calling model_fn.\n",
      "WARNING:tensorflow:From /Users/mathews/opt/anaconda3/lib/python3.8/site-packages/keras/optimizer_v2/adagrad.py:83: calling Constant.__init__ (from tensorflow.python.ops.init_ops) with dtype is deprecated and will be removed in a future version.\n",
      "Instructions for updating:\n",
      "Call initializer instance with the dtype argument instead of passing it to the constructor\n",
      "INFO:tensorflow:Done calling model_fn.\n",
      "INFO:tensorflow:Create CheckpointSaverHook.\n",
      "INFO:tensorflow:Graph was finalized.\n",
      "INFO:tensorflow:Running local_init_op.\n",
      "INFO:tensorflow:Done running local_init_op.\n",
      "INFO:tensorflow:Calling checkpoint listeners before saving checkpoint 0...\n",
      "INFO:tensorflow:Saving checkpoints for 0 into /var/folders/lz/0jd9p3ss3417vd872nl5rdt40000gn/T/tmps3xcle8b/model.ckpt.\n",
      "INFO:tensorflow:Calling checkpoint listeners after saving checkpoint 0...\n",
      "INFO:tensorflow:loss = 1.3805689, step = 0\n",
      "INFO:tensorflow:global_step/sec: 278.711\n",
      "INFO:tensorflow:loss = 1.0871437, step = 100 (0.359 sec)\n",
      "INFO:tensorflow:global_step/sec: 360.581\n",
      "INFO:tensorflow:loss = 1.0009921, step = 200 (0.277 sec)\n",
      "INFO:tensorflow:global_step/sec: 339.813\n",
      "INFO:tensorflow:loss = 0.9499401, step = 300 (0.295 sec)\n",
      "INFO:tensorflow:global_step/sec: 232.469\n",
      "INFO:tensorflow:loss = 0.90640634, step = 400 (0.430 sec)\n",
      "INFO:tensorflow:global_step/sec: 324.104\n",
      "INFO:tensorflow:loss = 0.8660395, step = 500 (0.308 sec)\n",
      "INFO:tensorflow:global_step/sec: 345.619\n",
      "INFO:tensorflow:loss = 0.83163387, step = 600 (0.289 sec)\n",
      "INFO:tensorflow:global_step/sec: 294.843\n",
      "INFO:tensorflow:loss = 0.8000866, step = 700 (0.340 sec)\n",
      "INFO:tensorflow:global_step/sec: 362.705\n",
      "INFO:tensorflow:loss = 0.77571976, step = 800 (0.276 sec)\n",
      "INFO:tensorflow:global_step/sec: 350.542\n",
      "INFO:tensorflow:loss = 0.7459855, step = 900 (0.285 sec)\n",
      "INFO:tensorflow:global_step/sec: 335.857\n",
      "INFO:tensorflow:loss = 0.7254951, step = 1000 (0.298 sec)\n",
      "INFO:tensorflow:global_step/sec: 359.464\n",
      "INFO:tensorflow:loss = 0.70323926, step = 1100 (0.278 sec)\n",
      "INFO:tensorflow:global_step/sec: 365.968\n",
      "INFO:tensorflow:loss = 0.68245065, step = 1200 (0.273 sec)\n",
      "INFO:tensorflow:global_step/sec: 308.314\n",
      "INFO:tensorflow:loss = 0.663995, step = 1300 (0.325 sec)\n",
      "INFO:tensorflow:global_step/sec: 314.946\n",
      "INFO:tensorflow:loss = 0.64689976, step = 1400 (0.317 sec)\n",
      "INFO:tensorflow:global_step/sec: 217.648\n",
      "INFO:tensorflow:loss = 0.6321963, step = 1500 (0.463 sec)\n",
      "INFO:tensorflow:global_step/sec: 275.79\n",
      "INFO:tensorflow:loss = 0.61220706, step = 1600 (0.359 sec)\n",
      "INFO:tensorflow:global_step/sec: 271.8\n",
      "INFO:tensorflow:loss = 0.5988202, step = 1700 (0.368 sec)\n",
      "INFO:tensorflow:global_step/sec: 313.554\n",
      "INFO:tensorflow:loss = 0.58286667, step = 1800 (0.319 sec)\n",
      "INFO:tensorflow:global_step/sec: 354.541\n",
      "INFO:tensorflow:loss = 0.58053553, step = 1900 (0.282 sec)\n",
      "INFO:tensorflow:global_step/sec: 307.142\n",
      "INFO:tensorflow:loss = 0.5600147, step = 2000 (0.326 sec)\n",
      "INFO:tensorflow:global_step/sec: 357.629\n",
      "INFO:tensorflow:loss = 0.55317175, step = 2100 (0.280 sec)\n",
      "INFO:tensorflow:global_step/sec: 357.067\n",
      "INFO:tensorflow:loss = 0.5457039, step = 2200 (0.280 sec)\n",
      "INFO:tensorflow:global_step/sec: 339.813\n",
      "INFO:tensorflow:loss = 0.5390255, step = 2300 (0.294 sec)\n",
      "INFO:tensorflow:global_step/sec: 252.342\n",
      "INFO:tensorflow:loss = 0.51699686, step = 2400 (0.397 sec)\n",
      "INFO:tensorflow:global_step/sec: 243.855\n",
      "INFO:tensorflow:loss = 0.5080475, step = 2500 (0.410 sec)\n",
      "INFO:tensorflow:global_step/sec: 319.371\n",
      "INFO:tensorflow:loss = 0.5047749, step = 2600 (0.313 sec)\n",
      "INFO:tensorflow:global_step/sec: 328.763\n",
      "INFO:tensorflow:loss = 0.49715555, step = 2700 (0.304 sec)\n",
      "INFO:tensorflow:global_step/sec: 338.393\n",
      "INFO:tensorflow:loss = 0.4939765, step = 2800 (0.296 sec)\n",
      "INFO:tensorflow:global_step/sec: 292.364\n",
      "INFO:tensorflow:loss = 0.4814456, step = 2900 (0.342 sec)\n",
      "INFO:tensorflow:global_step/sec: 264.196\n",
      "INFO:tensorflow:loss = 0.4734196, step = 3000 (0.378 sec)\n",
      "INFO:tensorflow:global_step/sec: 236.758\n",
      "INFO:tensorflow:loss = 0.46760228, step = 3100 (0.423 sec)\n",
      "INFO:tensorflow:global_step/sec: 253.925\n",
      "INFO:tensorflow:loss = 0.4487346, step = 3200 (0.394 sec)\n",
      "INFO:tensorflow:global_step/sec: 227.283\n",
      "INFO:tensorflow:loss = 0.45323747, step = 3300 (0.440 sec)\n",
      "INFO:tensorflow:global_step/sec: 280.879\n",
      "INFO:tensorflow:loss = 0.44997594, step = 3400 (0.357 sec)\n",
      "INFO:tensorflow:global_step/sec: 203.678\n",
      "INFO:tensorflow:loss = 0.44386497, step = 3500 (0.490 sec)\n",
      "INFO:tensorflow:global_step/sec: 242.67\n",
      "INFO:tensorflow:loss = 0.4346963, step = 3600 (0.412 sec)\n",
      "INFO:tensorflow:global_step/sec: 193.725\n",
      "INFO:tensorflow:loss = 0.42866275, step = 3700 (0.516 sec)\n",
      "INFO:tensorflow:global_step/sec: 249.278\n",
      "INFO:tensorflow:loss = 0.4309855, step = 3800 (0.401 sec)\n",
      "INFO:tensorflow:global_step/sec: 250.074\n",
      "INFO:tensorflow:loss = 0.4277849, step = 3900 (0.400 sec)\n",
      "INFO:tensorflow:global_step/sec: 271.393\n",
      "INFO:tensorflow:loss = 0.4074087, step = 4000 (0.368 sec)\n",
      "INFO:tensorflow:global_step/sec: 247.229\n",
      "INFO:tensorflow:loss = 0.41075164, step = 4100 (0.405 sec)\n",
      "INFO:tensorflow:global_step/sec: 301.144\n",
      "INFO:tensorflow:loss = 0.4015603, step = 4200 (0.332 sec)\n",
      "INFO:tensorflow:global_step/sec: 306.022\n",
      "INFO:tensorflow:loss = 0.41207707, step = 4300 (0.326 sec)\n",
      "INFO:tensorflow:global_step/sec: 296.282\n",
      "INFO:tensorflow:loss = 0.3934964, step = 4400 (0.338 sec)\n",
      "INFO:tensorflow:global_step/sec: 311.885\n",
      "INFO:tensorflow:loss = 0.38873637, step = 4500 (0.321 sec)\n",
      "INFO:tensorflow:global_step/sec: 317.158\n",
      "INFO:tensorflow:loss = 0.38621816, step = 4600 (0.315 sec)\n",
      "INFO:tensorflow:global_step/sec: 319.121\n",
      "INFO:tensorflow:loss = 0.38621917, step = 4700 (0.314 sec)\n",
      "INFO:tensorflow:global_step/sec: 319.089\n",
      "INFO:tensorflow:loss = 0.3756377, step = 4800 (0.313 sec)\n",
      "INFO:tensorflow:global_step/sec: 306.809\n",
      "INFO:tensorflow:loss = 0.3795184, step = 4900 (0.326 sec)\n",
      "INFO:tensorflow:Calling checkpoint listeners before saving checkpoint 5000...\n",
      "INFO:tensorflow:Saving checkpoints for 5000 into /var/folders/lz/0jd9p3ss3417vd872nl5rdt40000gn/T/tmps3xcle8b/model.ckpt.\n",
      "INFO:tensorflow:Calling checkpoint listeners after saving checkpoint 5000...\n",
      "INFO:tensorflow:Loss for final step: 0.3674647.\n"
     ]
    },
    {
     "data": {
      "text/plain": [
       "<tensorflow_estimator.python.estimator.canned.dnn.DNNClassifierV2 at 0x14493aa90>"
      ]
     },
     "execution_count": 14,
     "metadata": {},
     "output_type": "execute_result"
    }
   ],
   "source": [
    "classifier.train(input_fn = lambda: input_fn(train,y_train,training = True), steps=5000)\n",
    "#'steps' similar to epoch??"
   ]
  },
  {
   "cell_type": "code",
   "execution_count": 15,
   "id": "15881bed",
   "metadata": {},
   "outputs": [
    {
     "name": "stdout",
     "output_type": "stream",
     "text": [
      "INFO:tensorflow:Calling model_fn.\n",
      "INFO:tensorflow:Done calling model_fn.\n",
      "INFO:tensorflow:Starting evaluation at 2023-06-10T19:40:36\n",
      "INFO:tensorflow:Graph was finalized.\n",
      "INFO:tensorflow:Restoring parameters from /var/folders/lz/0jd9p3ss3417vd872nl5rdt40000gn/T/tmps3xcle8b/model.ckpt-5000\n",
      "INFO:tensorflow:Running local_init_op.\n",
      "INFO:tensorflow:Done running local_init_op.\n",
      "INFO:tensorflow:Inference Time : 0.52607s\n",
      "INFO:tensorflow:Finished evaluation at 2023-06-10-19:40:37\n",
      "INFO:tensorflow:Saving dict for global step 5000: accuracy = 0.93333334, average_loss = 0.43296063, global_step = 5000, loss = 0.43296063\n",
      "INFO:tensorflow:Saving 'checkpoint_path' summary for global step 5000: /var/folders/lz/0jd9p3ss3417vd872nl5rdt40000gn/T/tmps3xcle8b/model.ckpt-5000\n"
     ]
    },
    {
     "data": {
      "text/plain": [
       "{'accuracy': 0.93333334,\n",
       " 'average_loss': 0.43296063,\n",
       " 'loss': 0.43296063,\n",
       " 'global_step': 5000}"
      ]
     },
     "execution_count": 15,
     "metadata": {},
     "output_type": "execute_result"
    }
   ],
   "source": [
    "classifier.evaluate(input_fn = lambda: input_fn(test,y_test,training = False))"
   ]
  },
  {
   "cell_type": "code",
   "execution_count": 16,
   "id": "d41248c0",
   "metadata": {},
   "outputs": [
    {
     "name": "stdout",
     "output_type": "stream",
     "text": [
      "INFO:tensorflow:Calling model_fn.\n",
      "INFO:tensorflow:Done calling model_fn.\n",
      "INFO:tensorflow:Graph was finalized.\n",
      "INFO:tensorflow:Restoring parameters from /var/folders/lz/0jd9p3ss3417vd872nl5rdt40000gn/T/tmps3xcle8b/model.ckpt-5000\n",
      "INFO:tensorflow:Running local_init_op.\n",
      "INFO:tensorflow:Done running local_init_op.\n"
     ]
    }
   ],
   "source": [
    "result2 = list(classifier.predict(input_fn = lambda: input_fn(test,y_test,training=False)))"
   ]
  },
  {
   "cell_type": "code",
   "execution_count": 17,
   "id": "14dc6f69",
   "metadata": {},
   "outputs": [
    {
     "data": {
      "text/plain": [
       "[{'logits': array([-0.3068265,  1.3374684,  0.9982858], dtype=float32),\n",
       "  'probabilities': array([0.10136373, 0.5247963 , 0.37383988], dtype=float32),\n",
       "  'class_ids': array([1]),\n",
       "  'classes': array([b'1'], dtype=object),\n",
       "  'all_class_ids': array([0, 1, 2], dtype=int32),\n",
       "  'all_classes': array([b'0', b'1', b'2'], dtype=object)},\n",
       " {'logits': array([-0.9977623,  1.4555801,  2.098028 ], dtype=float32),\n",
       "  'probabilities': array([0.02879202, 0.334769  , 0.63643897], dtype=float32),\n",
       "  'class_ids': array([2]),\n",
       "  'classes': array([b'2'], dtype=object),\n",
       "  'all_class_ids': array([0, 1, 2], dtype=int32),\n",
       "  'all_classes': array([b'0', b'1', b'2'], dtype=object)},\n",
       " {'logits': array([ 2.2755249 ,  0.64685714, -1.3438638 ], dtype=float32),\n",
       "  'probabilities': array([0.81766826, 0.16041899, 0.02191274], dtype=float32),\n",
       "  'class_ids': array([0]),\n",
       "  'classes': array([b'0'], dtype=object),\n",
       "  'all_class_ids': array([0, 1, 2], dtype=int32),\n",
       "  'all_classes': array([b'0', b'1', b'2'], dtype=object)},\n",
       " {'logits': array([-0.34958053,  1.4170301 ,  1.2344986 ], dtype=float32),\n",
       "  'probabilities': array([0.08528211, 0.4989846 , 0.41573322], dtype=float32),\n",
       "  'class_ids': array([1]),\n",
       "  'classes': array([b'1'], dtype=object),\n",
       "  'all_class_ids': array([0, 1, 2], dtype=int32),\n",
       "  'all_classes': array([b'0', b'1', b'2'], dtype=object)},\n",
       " {'logits': array([-0.3927367,  1.1810185,  0.939553 ], dtype=float32),\n",
       "  'probabilities': array([0.10401019, 0.5018213 , 0.39416856], dtype=float32),\n",
       "  'class_ids': array([1]),\n",
       "  'classes': array([b'1'], dtype=object),\n",
       "  'all_class_ids': array([0, 1, 2], dtype=int32),\n",
       "  'all_classes': array([b'0', b'1', b'2'], dtype=object)},\n",
       " {'logits': array([-0.23660684,  1.3609968 ,  0.73805356], dtype=float32),\n",
       "  'probabilities': array([0.11639487, 0.5751277 , 0.30847746], dtype=float32),\n",
       "  'class_ids': array([1]),\n",
       "  'classes': array([b'1'], dtype=object),\n",
       "  'all_class_ids': array([0, 1, 2], dtype=int32),\n",
       "  'all_classes': array([b'0', b'1', b'2'], dtype=object)},\n",
       " {'logits': array([ 3.25739   ,  0.49354443, -1.8242315 ], dtype=float32),\n",
       "  'probabilities': array([0.9352274, 0.058965 , 0.0058076], dtype=float32),\n",
       "  'class_ids': array([0]),\n",
       "  'classes': array([b'0'], dtype=object),\n",
       "  'all_class_ids': array([0, 1, 2], dtype=int32),\n",
       "  'all_classes': array([b'0', b'1', b'2'], dtype=object)},\n",
       " {'logits': array([-0.818433 ,  1.3111372,  1.6196963], dtype=float32),\n",
       "  'probabilities': array([0.0479321 , 0.40316886, 0.54889905], dtype=float32),\n",
       "  'class_ids': array([2]),\n",
       "  'classes': array([b'2'], dtype=object),\n",
       "  'all_class_ids': array([0, 1, 2], dtype=int32),\n",
       "  'all_classes': array([b'0', b'1', b'2'], dtype=object)},\n",
       " {'logits': array([-0.23337567,  1.2925344 ,  0.87581325], dtype=float32),\n",
       "  'probabilities': array([0.11585841, 0.5328707 , 0.35127088], dtype=float32),\n",
       "  'class_ids': array([1]),\n",
       "  'classes': array([b'1'], dtype=object),\n",
       "  'all_class_ids': array([0, 1, 2], dtype=int32),\n",
       "  'all_classes': array([b'0', b'1', b'2'], dtype=object)},\n",
       " {'logits': array([-1.3485011,  1.2813492,  2.354354 ], dtype=float32),\n",
       "  'probabilities': array([0.01803926, 0.2502351 , 0.73172563], dtype=float32),\n",
       "  'class_ids': array([2]),\n",
       "  'classes': array([b'2'], dtype=object),\n",
       "  'all_class_ids': array([0, 1, 2], dtype=int32),\n",
       "  'all_classes': array([b'0', b'1', b'2'], dtype=object)},\n",
       " {'logits': array([-1.2832533,  1.4394308,  2.4536307], dtype=float32),\n",
       "  'probabilities': array([0.01718563, 0.26158464, 0.72122973], dtype=float32),\n",
       "  'class_ids': array([2]),\n",
       "  'classes': array([b'2'], dtype=object),\n",
       "  'all_class_ids': array([0, 1, 2], dtype=int32),\n",
       "  'all_classes': array([b'0', b'1', b'2'], dtype=object)},\n",
       " {'logits': array([ 2.4887972 ,  0.35073048, -1.5399884 ], dtype=float32),\n",
       "  'probabilities': array([0.88053095, 0.10379921, 0.01566986], dtype=float32),\n",
       "  'class_ids': array([0]),\n",
       "  'classes': array([b'0'], dtype=object),\n",
       "  'all_class_ids': array([0, 1, 2], dtype=int32),\n",
       "  'all_classes': array([b'0', b'1', b'2'], dtype=object)},\n",
       " {'logits': array([-1.098253 ,  1.2052404,  2.33958  ], dtype=float32),\n",
       "  'probabilities': array([0.02373688, 0.23758449, 0.73867863], dtype=float32),\n",
       "  'class_ids': array([2]),\n",
       "  'classes': array([b'2'], dtype=object),\n",
       "  'all_class_ids': array([0, 1, 2], dtype=int32),\n",
       "  'all_classes': array([b'0', b'1', b'2'], dtype=object)},\n",
       " {'logits': array([-0.47020718,  1.140786  ,  0.97840774], dtype=float32),\n",
       "  'probabilities': array([0.09741843, 0.4878504 , 0.41473114], dtype=float32),\n",
       "  'class_ids': array([1]),\n",
       "  'classes': array([b'1'], dtype=object),\n",
       "  'all_class_ids': array([0, 1, 2], dtype=int32),\n",
       "  'all_classes': array([b'0', b'1', b'2'], dtype=object)},\n",
       " {'logits': array([-0.23595226,  1.1965383 ,  0.41818884], dtype=float32),\n",
       "  'probabilities': array([0.14059539, 0.5889709 , 0.27043378], dtype=float32),\n",
       "  'class_ids': array([1]),\n",
       "  'classes': array([b'1'], dtype=object),\n",
       "  'all_class_ids': array([0, 1, 2], dtype=int32),\n",
       "  'all_classes': array([b'0', b'1', b'2'], dtype=object)},\n",
       " {'logits': array([ 2.763609  ,  0.48018846, -1.6785035 ], dtype=float32),\n",
       "  'probabilities': array([0.897903  , 0.09152769, 0.01056926], dtype=float32),\n",
       "  'class_ids': array([0]),\n",
       "  'classes': array([b'0'], dtype=object),\n",
       "  'all_class_ids': array([0, 1, 2], dtype=int32),\n",
       "  'all_classes': array([b'0', b'1', b'2'], dtype=object)},\n",
       " {'logits': array([0.27448192, 1.1138843 , 0.11845149], dtype=float32),\n",
       "  'probabilities': array([0.23977844, 0.5550831 , 0.20513842], dtype=float32),\n",
       "  'class_ids': array([1]),\n",
       "  'classes': array([b'1'], dtype=object),\n",
       "  'all_class_ids': array([0, 1, 2], dtype=int32),\n",
       "  'all_classes': array([b'0', b'1', b'2'], dtype=object)},\n",
       " {'logits': array([ 2.2354634,  0.5881121, -1.3672444], dtype=float32),\n",
       "  'probabilities': array([0.81980044, 0.15786017, 0.02233943], dtype=float32),\n",
       "  'class_ids': array([0]),\n",
       "  'classes': array([b'0'], dtype=object),\n",
       "  'all_class_ids': array([0, 1, 2], dtype=int32),\n",
       "  'all_classes': array([b'0', b'1', b'2'], dtype=object)},\n",
       " {'logits': array([ 2.6419332 ,  0.50256574, -1.6400646 ], dtype=float32),\n",
       "  'probabilities': array([0.88374794, 0.10404301, 0.01220901], dtype=float32),\n",
       "  'class_ids': array([0]),\n",
       "  'classes': array([b'0'], dtype=object),\n",
       "  'all_class_ids': array([0, 1, 2], dtype=int32),\n",
       "  'all_classes': array([b'0', b'1', b'2'], dtype=object)},\n",
       " {'logits': array([-1.1580309,  1.1703608,  2.3788447], dtype=float32),\n",
       "  'probabilities': array([0.02191981, 0.22492853, 0.7531517 ], dtype=float32),\n",
       "  'class_ids': array([2]),\n",
       "  'classes': array([b'2'], dtype=object),\n",
       "  'all_class_ids': array([0, 1, 2], dtype=int32),\n",
       "  'all_classes': array([b'0', b'1', b'2'], dtype=object)},\n",
       " {'logits': array([ 2.6073642,  0.5556621, -1.6760715], dtype=float32),\n",
       "  'probabilities': array([0.87541825, 0.11250523, 0.01207655], dtype=float32),\n",
       "  'class_ids': array([0]),\n",
       "  'classes': array([b'0'], dtype=object),\n",
       "  'all_class_ids': array([0, 1, 2], dtype=int32),\n",
       "  'all_classes': array([b'0', b'1', b'2'], dtype=object)},\n",
       " {'logits': array([-0.560136 ,  1.2688581,  1.4368646], dtype=float32),\n",
       "  'probabilities': array([0.06851874, 0.42670867, 0.5047726 ], dtype=float32),\n",
       "  'class_ids': array([2]),\n",
       "  'classes': array([b'2'], dtype=object),\n",
       "  'all_class_ids': array([0, 1, 2], dtype=int32),\n",
       "  'all_classes': array([b'0', b'1', b'2'], dtype=object)},\n",
       " {'logits': array([-1.2104621,  1.3017064,  2.3520508], dtype=float32),\n",
       "  'probabilities': array([0.0205832 , 0.25382465, 0.7255921 ], dtype=float32),\n",
       "  'class_ids': array([2]),\n",
       "  'classes': array([b'2'], dtype=object),\n",
       "  'all_class_ids': array([0, 1, 2], dtype=int32),\n",
       "  'all_classes': array([b'0', b'1', b'2'], dtype=object)},\n",
       " {'logits': array([-0.81588745,  1.2627238 ,  1.4983894 ], dtype=float32),\n",
       "  'probabilities': array([0.05232599, 0.41826043, 0.5294135 ], dtype=float32),\n",
       "  'class_ids': array([2]),\n",
       "  'classes': array([b'2'], dtype=object),\n",
       "  'all_class_ids': array([0, 1, 2], dtype=int32),\n",
       "  'all_classes': array([b'0', b'1', b'2'], dtype=object)},\n",
       " {'logits': array([-0.10213292,  1.2462755 ,  0.55223715], dtype=float32),\n",
       "  'probabilities': array([0.14759664, 0.56843764, 0.28396565], dtype=float32),\n",
       "  'class_ids': array([1]),\n",
       "  'classes': array([b'1'], dtype=object),\n",
       "  'all_class_ids': array([0, 1, 2], dtype=int32),\n",
       "  'all_classes': array([b'0', b'1', b'2'], dtype=object)},\n",
       " {'logits': array([-0.44957772,  1.3473055 ,  1.1437297 ], dtype=float32),\n",
       "  'probabilities': array([0.0836763, 0.5046368, 0.4116869], dtype=float32),\n",
       "  'class_ids': array([1]),\n",
       "  'classes': array([b'1'], dtype=object),\n",
       "  'all_class_ids': array([0, 1, 2], dtype=int32),\n",
       "  'all_classes': array([b'0', b'1', b'2'], dtype=object)},\n",
       " {'logits': array([ 3.0796819 ,  0.47890547, -1.7565658 ], dtype=float32),\n",
       "  'probabilities': array([0.924084  , 0.06858176, 0.00733425], dtype=float32),\n",
       "  'class_ids': array([0]),\n",
       "  'classes': array([b'0'], dtype=object),\n",
       "  'all_class_ids': array([0, 1, 2], dtype=int32),\n",
       "  'all_classes': array([b'0', b'1', b'2'], dtype=object)},\n",
       " {'logits': array([-0.3644819,  1.4629663,  0.9766438], dtype=float32),\n",
       "  'probabilities': array([0.09056867, 0.56315595, 0.3462753 ], dtype=float32),\n",
       "  'class_ids': array([1]),\n",
       "  'classes': array([b'1'], dtype=object),\n",
       "  'all_class_ids': array([0, 1, 2], dtype=int32),\n",
       "  'all_classes': array([b'0', b'1', b'2'], dtype=object)},\n",
       " {'logits': array([-1.327056 ,  1.4444932,  2.8451   ], dtype=float32),\n",
       "  'probabilities': array([0.01221919, 0.19530387, 0.79247695], dtype=float32),\n",
       "  'class_ids': array([2]),\n",
       "  'classes': array([b'2'], dtype=object),\n",
       "  'all_class_ids': array([0, 1, 2], dtype=int32),\n",
       "  'all_classes': array([b'0', b'1', b'2'], dtype=object)},\n",
       " {'logits': array([-0.1622872,  1.3722633,  0.6334239], dtype=float32),\n",
       "  'probabilities': array([0.12730329, 0.5905905 , 0.28210616], dtype=float32),\n",
       "  'class_ids': array([1]),\n",
       "  'classes': array([b'1'], dtype=object),\n",
       "  'all_class_ids': array([0, 1, 2], dtype=int32),\n",
       "  'all_classes': array([b'0', b'1', b'2'], dtype=object)}]"
      ]
     },
     "execution_count": 17,
     "metadata": {},
     "output_type": "execute_result"
    }
   ],
   "source": [
    "result2"
   ]
  },
  {
   "cell_type": "code",
   "execution_count": null,
   "id": "cb3c507a",
   "metadata": {},
   "outputs": [],
   "source": []
  }
 ],
 "metadata": {
  "kernelspec": {
   "display_name": "Python 3",
   "language": "python",
   "name": "python3"
  },
  "language_info": {
   "codemirror_mode": {
    "name": "ipython",
    "version": 3
   },
   "file_extension": ".py",
   "mimetype": "text/x-python",
   "name": "python",
   "nbconvert_exporter": "python",
   "pygments_lexer": "ipython3",
   "version": "3.8.8"
  }
 },
 "nbformat": 4,
 "nbformat_minor": 5
}
