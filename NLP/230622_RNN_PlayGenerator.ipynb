{
 "cells": [
  {
   "cell_type": "code",
   "execution_count": 1,
   "id": "53ccbb05",
   "metadata": {},
   "outputs": [],
   "source": [
    "from keras.preprocessing import sequence\n",
    "import keras\n",
    "import tensorflow as tf\n",
    "import os\n",
    "import numpy as np"
   ]
  },
  {
   "cell_type": "markdown",
   "id": "03fe8eb8",
   "metadata": {},
   "source": [
    "For this example, we only need one piece of training data. We can also write our own poem or play and pass it to the \n",
    "network for training if we like. However, here we will be using Shakespeare's play 'Romeo and Juliet'"
   ]
  },
  {
   "cell_type": "code",
   "execution_count": 2,
   "id": "84f5c2a6",
   "metadata": {},
   "outputs": [],
   "source": [
    "#keras has this feature to save it as txt\n",
    "path_to_file = tf.keras.utils.get_file('shakespeare.txt','https://storage.googleapis.com/download.tensorflow.org/data/shakespeare.txt')"
   ]
  },
  {
   "cell_type": "code",
   "execution_count": 3,
   "id": "0ad1918d",
   "metadata": {},
   "outputs": [
    {
     "name": "stdout",
     "output_type": "stream",
     "text": [
      "Length of text: 1115394 characters\n"
     ]
    }
   ],
   "source": [
    "#Read, then decode\n",
    "text = open(path_to_file,'rb').read().decode(encoding='utf-8')\n",
    "#length of text is the number of characters in it\n",
    "print('Length of text: {} characters'.format(len(text)))"
   ]
  },
  {
   "cell_type": "code",
   "execution_count": 4,
   "id": "4ab83c21",
   "metadata": {},
   "outputs": [
    {
     "name": "stdout",
     "output_type": "stream",
     "text": [
      "First Citizen:\n",
      "Before we proceed any further, hear me speak.\n",
      "\n",
      "All:\n",
      "Speak, speak.\n",
      "\n",
      "First Citizen:\n",
      "You are all resolved rather to die than to famish?\n",
      "\n",
      "All:\n",
      "Resolved. resolved.\n",
      "\n",
      "First Citizen:\n",
      "First, you know Caius Marcius is chief enemy to the people.\n",
      "\n"
     ]
    }
   ],
   "source": [
    "print(text[:250]) #first 250 characters in the play"
   ]
  },
  {
   "cell_type": "markdown",
   "id": "2f8bfe17",
   "metadata": {},
   "source": [
    "Encoding\n",
    "- We encode each unique character as a different integer"
   ]
  },
  {
   "cell_type": "code",
   "execution_count": 5,
   "id": "de23833d",
   "metadata": {},
   "outputs": [],
   "source": [
    "vocab = sorted(set(text))"
   ]
  },
  {
   "cell_type": "code",
   "execution_count": 17,
   "id": "4951c6ee",
   "metadata": {},
   "outputs": [
    {
     "name": "stdout",
     "output_type": "stream",
     "text": [
      "<class 'list'>\n",
      "['\\n', ' ', '!', '$', '&', \"'\", ',', '-', '.', '3', ':', ';', '?', 'A', 'B', 'C', 'D', 'E', 'F', 'G', 'H', 'I', 'J', 'K', 'L', 'M', 'N', 'O', 'P', 'Q', 'R', 'S', 'T', 'U', 'V', 'W', 'X', 'Y', 'Z', 'a', 'b', 'c', 'd', 'e', 'f', 'g', 'h', 'i', 'j', 'k', 'l', 'm', 'n', 'o', 'p', 'q', 'r', 's', 't', 'u', 'v', 'w', 'x', 'y', 'z']\n",
      "65\n"
     ]
    }
   ],
   "source": [
    "print(type(vocab))\n",
    "print(vocab)\n",
    "print(len(vocab))"
   ]
  },
  {
   "cell_type": "code",
   "execution_count": 7,
   "id": "1a21e4ed",
   "metadata": {},
   "outputs": [],
   "source": [
    "#Create a mapping from unique characters to indices\n",
    "char2idx = {u:i for i,u in enumerate(vocab)}\n",
    "idx2char = np.array(vocab)\n",
    "\n",
    "def text_to_int(text):\n",
    "    return np.array([char2idx[c] for c in text])\n",
    "\n",
    "text_as_int = text_to_int(text)"
   ]
  },
  {
   "cell_type": "code",
   "execution_count": 8,
   "id": "86a38614",
   "metadata": {},
   "outputs": [
    {
     "name": "stdout",
     "output_type": "stream",
     "text": [
      "Text: First Citizen\n",
      "Encoded: [18 47 56 57 58  1 15 47 58 47 64 43 52]\n"
     ]
    }
   ],
   "source": [
    "print(\"Text:\", text[:13])\n",
    "print(\"Encoded:\", text_to_int(text[:13]))"
   ]
  },
  {
   "cell_type": "code",
   "execution_count": 9,
   "id": "9bcb3285",
   "metadata": {},
   "outputs": [
    {
     "name": "stdout",
     "output_type": "stream",
     "text": [
      "First Citizen\n"
     ]
    }
   ],
   "source": [
    "#function to convert numeric values to text\n",
    "def int_to_text(ints):\n",
    "    try:\n",
    "        ints = ints.numpy()\n",
    "    except:\n",
    "        pass\n",
    "    return ''.join(idx2char[ints])\n",
    "print(int_to_text(text_as_int[:13]))"
   ]
  },
  {
   "cell_type": "markdown",
   "id": "2e171955",
   "metadata": {},
   "source": [
    "Creating Training Examples\n",
    "- Our task is to feed the model a sequence and have it return to us the next character\n",
    "- THis means, we need to split our text data from above into many shorter sequences that we can pass to the model as training example\n",
    "- We will use a sequence as input and another sequence as output, where this o/p sequence is the original sequence shifted one letter to the right\n",
    "- e.g., i/p: Hell and o/p: ello"
   ]
  },
  {
   "cell_type": "markdown",
   "id": "3b84db17",
   "metadata": {},
   "source": [
    "First step is to create a stream of characters from our text data"
   ]
  },
  {
   "cell_type": "code",
   "execution_count": 10,
   "id": "5d1eb5e2",
   "metadata": {},
   "outputs": [],
   "source": [
    "seq_length = 100 # length of sequence for training example\n",
    "examples_per_epoch = len(text)//(seq_length + 1) #for every training example, we use (seq_length + 1) characters as i/p and o/p combined\n",
    "\n",
    "#Creating training examples/targets\n",
    "char_dataset = tf.data.Dataset.from_tensor_slices(text_as_int)"
   ]
  },
  {
   "cell_type": "markdown",
   "id": "0c300193",
   "metadata": {},
   "source": [
    "Now, we use the batch method to turn this stream of characters into batches of desired length"
   ]
  },
  {
   "cell_type": "code",
   "execution_count": 11,
   "id": "0320f42a",
   "metadata": {},
   "outputs": [],
   "source": [
    "sequences = char_dataset.batch(seq_length+1, drop_remainder = True) \n",
    "#drop_reamainder will drop the remaining characters at the end, that can't be included in the batch of size 101 here"
   ]
  },
  {
   "cell_type": "markdown",
   "id": "8b94af4f",
   "metadata": {},
   "source": [
    "Use these sequences of length 101 and split them into input and output"
   ]
  },
  {
   "cell_type": "code",
   "execution_count": 12,
   "id": "b3fd3fe8",
   "metadata": {},
   "outputs": [],
   "source": [
    "def split_input_target(chunk):\n",
    "    input_text = chunk[:-1] #hell\n",
    "    target_text = chunk[1:] #ello\n",
    "    return input_text, target_text #hell, ello\n",
    "\n",
    "dataset = sequences.map(split_input_target) # we use map to apply the above function to every entry"
   ]
  },
  {
   "cell_type": "code",
   "execution_count": 13,
   "id": "27efb74a",
   "metadata": {},
   "outputs": [
    {
     "data": {
      "text/plain": [
       "tensorflow.python.data.ops.dataset_ops.MapDataset"
      ]
     },
     "execution_count": 13,
     "metadata": {},
     "output_type": "execute_result"
    }
   ],
   "source": [
    "type(dataset)"
   ]
  },
  {
   "cell_type": "code",
   "execution_count": 14,
   "id": "dbbc5f72",
   "metadata": {},
   "outputs": [
    {
     "name": "stdout",
     "output_type": "stream",
     "text": [
      "\n",
      "\n",
      "EXAMPLE\n",
      "INPUT:  First Citizen:\n",
      "Before we proceed any further, hear me speak.\n",
      "\n",
      "All:\n",
      "Speak, speak.\n",
      "\n",
      "First Citizen:\n",
      "You\n",
      "\n",
      "OUTPUT:  irst Citizen:\n",
      "Before we proceed any further, hear me speak.\n",
      "\n",
      "All:\n",
      "Speak, speak.\n",
      "\n",
      "First Citizen:\n",
      "You \n",
      "\n",
      "\n",
      "EXAMPLE\n",
      "INPUT:  are all resolved rather to die than to famish?\n",
      "\n",
      "All:\n",
      "Resolved. resolved.\n",
      "\n",
      "First Citizen:\n",
      "First, you \n",
      "\n",
      "OUTPUT:  re all resolved rather to die than to famish?\n",
      "\n",
      "All:\n",
      "Resolved. resolved.\n",
      "\n",
      "First Citizen:\n",
      "First, you k\n"
     ]
    }
   ],
   "source": [
    "for x,y in dataset.take(2):\n",
    "    print(\"\\n\\nEXAMPLE\")\n",
    "    print('INPUT: ',int_to_text(x))\n",
    "    print('\\nOUTPUT: ',int_to_text(y))"
   ]
  },
  {
   "cell_type": "markdown",
   "id": "6105be6d",
   "metadata": {},
   "source": [
    "FInally, we need to make training batches"
   ]
  },
  {
   "cell_type": "code",
   "execution_count": 15,
   "id": "817f1978",
   "metadata": {},
   "outputs": [],
   "source": [
    "BATCH_SIZE = 64 #each epoch split into these many different batches\n",
    "VOCAB_SIZE = len(vocab) #number of unique characters\n",
    "EMBEDDING_DIM = 256 #Embedding dimension is how big we want every single vector to represent characters/words????\n",
    "RNN_UNITS = 1024\n",
    "\n",
    "# Buffer size to shuffle the dataset\n",
    "# (TF data is designed to work with possibly infinite sequences\n",
    "# so it doesn't attempt to shuffle the entire sequence in memory\n",
    "# it maintains a buffer in which it shuffle elements)\n",
    "BUFFER_SIZE = 10000\n",
    "\n",
    "data = dataset.shuffle(BUFFER_SIZE).batch(BATCH_SIZE, drop_remainder = True)"
   ]
  },
  {
   "cell_type": "markdown",
   "id": "4474aa96",
   "metadata": {},
   "source": [
    "Building the Model\n",
    "- We will use embedding, LSTM and a dense layer \n",
    "- Dense layer contains a node for each unique character in our training data. \n",
    "- The dense layer will give us a prob. distr. over all nodes"
   ]
  },
  {
   "cell_type": "code",
   "execution_count": 16,
   "id": "cfcf4585",
   "metadata": {},
   "outputs": [
    {
     "name": "stdout",
     "output_type": "stream",
     "text": [
      "Model: \"sequential\"\n",
      "_________________________________________________________________\n",
      "Layer (type)                 Output Shape              Param #   \n",
      "=================================================================\n",
      "embedding (Embedding)        (64, None, 256)           16640     \n",
      "_________________________________________________________________\n",
      "lstm (LSTM)                  (64, None, 1024)          5246976   \n",
      "_________________________________________________________________\n",
      "dense (Dense)                (64, None, 65)            66625     \n",
      "=================================================================\n",
      "Total params: 5,330,241\n",
      "Trainable params: 5,330,241\n",
      "Non-trainable params: 0\n",
      "_________________________________________________________________\n"
     ]
    }
   ],
   "source": [
    "def build_model(vocab_size, embedding_dim, rnn_units, batch_size):\n",
    "    model = tf.keras.Sequential([\n",
    "        tf.keras.layers.Embedding(vocab_size, embedding_dim, batch_input_shape = [batch_size, None]),\n",
    "        #while making predictions, we donno how long each sequence is gonna be. So we give shape 'None', i.e., it is the length of sequence\n",
    "        tf.keras.layers.LSTM(rnn_units, return_sequences = True, stateful = True, recurrent_initializer = 'glorot_uniform'),\n",
    "        # return_sequences = True, will give us output at every single time step, if set to False, only final output will be given\n",
    "        # glorot_uniform is a good default to pick for the values to start at in the LSTM\n",
    "        tf.keras.layers.Dense(vocab_size)\n",
    "    ])\n",
    "    \n",
    "    return model\n",
    "\n",
    "model = build_model(VOCAB_SIZE, EMBEDDING_DIM, RNN_UNITS, BATCH_SIZE)\n",
    "model.summary()"
   ]
  },
  {
   "cell_type": "markdown",
   "id": "b86d3558",
   "metadata": {},
   "source": [
    "Creating A Loss Function\n",
    "- Our Model will o/p (64,sequence_length,65) shaped tensor that represents the prob. distr. of each character, at each \n",
    "timestep, for every sequence in the batch"
   ]
  },
  {
   "cell_type": "code",
   "execution_count": 18,
   "id": "68969c4f",
   "metadata": {},
   "outputs": [
    {
     "name": "stdout",
     "output_type": "stream",
     "text": [
      "(64, 100, 65) #(batch_size, sequence_length, vocab_length)\n"
     ]
    }
   ],
   "source": [
    "for input_example_batch, target_example_batch in data.take(1):\n",
    "    example_batch_predictions = model(input_example_batch) #ask our model for a prediction on our first batch of training data\n",
    "    print(example_batch_predictions.shape, '#(batch_size, sequence_length, vocab_length)')"
   ]
  },
  {
   "cell_type": "code",
   "execution_count": null,
   "id": "73d1624f",
   "metadata": {},
   "outputs": [],
   "source": []
  }
 ],
 "metadata": {
  "kernelspec": {
   "display_name": "Python 3",
   "language": "python",
   "name": "python3"
  },
  "language_info": {
   "codemirror_mode": {
    "name": "ipython",
    "version": 3
   },
   "file_extension": ".py",
   "mimetype": "text/x-python",
   "name": "python",
   "nbconvert_exporter": "python",
   "pygments_lexer": "ipython3",
   "version": "3.8.8"
  }
 },
 "nbformat": 4,
 "nbformat_minor": 5
}
