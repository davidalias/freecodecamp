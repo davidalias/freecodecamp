{
 "cells": [
  {
   "cell_type": "code",
   "execution_count": 1,
   "id": "35464756",
   "metadata": {},
   "outputs": [],
   "source": [
    "vocab ={} #maps word to integer representing it"
   ]
  },
  {
   "cell_type": "code",
   "execution_count": 5,
   "id": "c07475c5",
   "metadata": {},
   "outputs": [],
   "source": [
    "word_encoding = 1\n",
    "def bag_of_words(text):\n",
    "    global word_encoding\n",
    "    \n",
    "    words = text.lower().split(\" \") #creates a  list of words in the text\n",
    "    bag = {} #stores all the encodings and their frequency\n",
    "    \n",
    "    for word in words:\n",
    "        if word in vocab:\n",
    "            encoding = vocab[word]    \n",
    "        else:\n",
    "            vocab[word] = word_encoding\n",
    "            encoding = word_encoding\n",
    "            word_encoding += 1\n",
    "            \n",
    "        if encoding in bag:\n",
    "            bag[encoding] += 1\n",
    "        else:\n",
    "            bag[encoding] = 1\n",
    "            \n",
    "    return bag"
   ]
  },
  {
   "cell_type": "code",
   "execution_count": 6,
   "id": "02a28596",
   "metadata": {},
   "outputs": [],
   "source": [
    "text = 'This is a test to see if this test will work is is test a a'\n",
    "bag = bag_of_words(text)"
   ]
  },
  {
   "cell_type": "code",
   "execution_count": 7,
   "id": "82cec8be",
   "metadata": {},
   "outputs": [
    {
     "name": "stdout",
     "output_type": "stream",
     "text": [
      "{1: 2, 2: 3, 3: 3, 4: 3, 5: 1, 6: 1, 7: 1, 8: 1, 9: 1}\n",
      "{'this': 1, 'is': 2, 'a': 3, 'test': 4, 'to': 5, 'see': 6, 'if': 7, 'will': 8, 'work': 9}\n"
     ]
    }
   ],
   "source": [
    "print(bag)\n",
    "print(vocab)"
   ]
  },
  {
   "cell_type": "code",
   "execution_count": null,
   "id": "bb096179",
   "metadata": {},
   "outputs": [],
   "source": []
  }
 ],
 "metadata": {
  "kernelspec": {
   "display_name": "Python 3",
   "language": "python",
   "name": "python3"
  },
  "language_info": {
   "codemirror_mode": {
    "name": "ipython",
    "version": 3
   },
   "file_extension": ".py",
   "mimetype": "text/x-python",
   "name": "python",
   "nbconvert_exporter": "python",
   "pygments_lexer": "ipython3",
   "version": "3.8.8"
  }
 },
 "nbformat": 4,
 "nbformat_minor": 5
}
