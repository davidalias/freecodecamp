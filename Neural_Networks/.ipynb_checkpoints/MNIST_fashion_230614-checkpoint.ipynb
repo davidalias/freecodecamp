{
 "cells": [
  {
   "cell_type": "code",
   "execution_count": 1,
   "id": "a77e63fd",
   "metadata": {},
   "outputs": [],
   "source": [
    "import tensorflow as tf\n",
    "from tensorflow import keras\n",
    "import numpy as np\n",
    "import matplotlib.pyplot as plt"
   ]
  },
  {
   "cell_type": "markdown",
   "id": "6d54f187",
   "metadata": {},
   "source": [
    "\n",
    "- MNIST fashion dataset from keras\n",
    "- Includes 60,000 images for training and 10,000 images for validation/testing"
   ]
  },
  {
   "cell_type": "code",
   "execution_count": 2,
   "id": "2f9b2bce",
   "metadata": {},
   "outputs": [],
   "source": [
    "fashion_mnist = keras.datasets.fashion_mnist #load dataset"
   ]
  },
  {
   "cell_type": "code",
   "execution_count": 3,
   "id": "d80cd505",
   "metadata": {},
   "outputs": [],
   "source": [
    "(train_images, train_labels), (test_images, test_labels) = fashion_mnist.load_data()"
   ]
  },
  {
   "cell_type": "code",
   "execution_count": 4,
   "id": "ceb650f7",
   "metadata": {},
   "outputs": [
    {
     "data": {
      "text/plain": [
       "(60000, 28, 28)"
      ]
     },
     "execution_count": 4,
     "metadata": {},
     "output_type": "execute_result"
    }
   ],
   "source": [
    "train_images.shape #60,000 images made up of 28*28 pixels (784 in total)"
   ]
  },
  {
   "cell_type": "code",
   "execution_count": 5,
   "id": "863e0d74",
   "metadata": {},
   "outputs": [
    {
     "data": {
      "text/plain": [
       "194"
      ]
     },
     "execution_count": 5,
     "metadata": {},
     "output_type": "execute_result"
    }
   ],
   "source": [
    "train_images[0,23,23] # to look at one pixel"
   ]
  },
  {
   "cell_type": "markdown",
   "id": "c2bba4fa",
   "metadata": {},
   "source": [
    "Pixel values are between 0 and 255, with 0 being black and 255 being white. This means we have grayscale images with no colour channels"
   ]
  },
  {
   "cell_type": "code",
   "execution_count": 6,
   "id": "a2c95fe3",
   "metadata": {},
   "outputs": [
    {
     "data": {
      "text/plain": [
       "array([9, 0, 0, 3, 0, 2, 7, 2, 5, 5], dtype=uint8)"
      ]
     },
     "execution_count": 6,
     "metadata": {},
     "output_type": "execute_result"
    }
   ],
   "source": [
    "train_labels[:10]"
   ]
  },
  {
   "cell_type": "code",
   "execution_count": 8,
   "id": "25fa506d",
   "metadata": {},
   "outputs": [],
   "source": [
    "class_names = ['T-Shirt/Top','Trouser','Pullover','Dress',\n",
    "              'Coat','Sandal','Shirt','Sneaker','Bag','Angle boot']"
   ]
  },
  {
   "cell_type": "code",
   "execution_count": 10,
   "id": "da3b09ac",
   "metadata": {},
   "outputs": [
    {
     "data": {
      "image/png": "[encoded data removed]",
      "text/plain": [
       "<Figure size 432x288 with 2 Axes>"
      ]
     },
     "metadata": {
      "needs_background": "light"
     },
     "output_type": "display_data"
    }
   ],
   "source": [
    "plt.figure()\n",
    "plt.imshow(train_images[6])\n",
    "plt.colorbar()\n",
    "#plt.grid(False)\n",
    "plt.show()"
   ]
  },
  {
   "cell_type": "markdown",
   "id": "1d683488",
   "metadata": {},
   "source": [
    "Data Preprocessing"
   ]
  },
  {
   "cell_type": "markdown",
   "id": "ca4a3e67",
   "metadata": {},
   "source": [
    "The last step before creating our model is preprocessing. This is just applying some transformation to the model before feeding it to the model. In this case, we simply scale all of our grayscale pixel values (0-255) to be between 0 and 1"
   ]
  },
  {
   "cell_type": "code",
   "execution_count": 11,
   "id": "91df561c",
   "metadata": {},
   "outputs": [],
   "source": [
    "train_images = train_images/ 255\n",
    "test_images =  test_images/255"
   ]
  },
  {
   "cell_type": "markdown",
   "id": "66e52fe4",
   "metadata": {},
   "source": [
    "Building the model"
   ]
  },
  {
   "cell_type": "markdown",
   "id": "3368f10e",
   "metadata": {},
   "source": [
    "We are going to use keras sequential model with three different layers. This model represents a feed forward neural network (one that passes values from left to right)."
   ]
  },
  {
   "cell_type": "code",
   "execution_count": null,
   "id": "34c5a828",
   "metadata": {},
   "outputs": [],
   "source": [
    "model = keras.Sequential([\n",
    "    keras.layers.Flatten(input_shape=(28,28)), #input layer\n",
    "    keras.layers.Dense(128, activation='relu'),  #hidden layer\n",
    "    keras.layers.Dense(10, activation='softmax') #output layer\n",
    "])"
   ]
  }
 ],
 "metadata": {
  "kernelspec": {
   "display_name": "Python 3",
   "language": "python",
   "name": "python3"
  },
  "language_info": {
   "codemirror_mode": {
    "name": "ipython",
    "version": 3
   },
   "file_extension": ".py",
   "mimetype": "text/x-python",
   "name": "python",
   "nbconvert_exporter": "python",
   "pygments_lexer": "ipython3",
   "version": "3.8.8"
  }
 },
 "nbformat": 4,
 "nbformat_minor": 5
}
