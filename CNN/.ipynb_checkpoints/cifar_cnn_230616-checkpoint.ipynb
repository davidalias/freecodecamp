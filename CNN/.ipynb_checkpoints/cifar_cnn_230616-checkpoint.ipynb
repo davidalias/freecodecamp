{
 "cells": [
  {
   "cell_type": "code",
   "execution_count": 1,
   "id": "f7665cfd",
   "metadata": {},
   "outputs": [],
   "source": [
    "import tensorflow as tf\n",
    "\n",
    "from tensorflow.keras import datasets, layers, models\n",
    "import matplotlib.pyplot as plt"
   ]
  },
  {
   "cell_type": "code",
   "execution_count": 2,
   "id": "24dbf3e6",
   "metadata": {},
   "outputs": [
    {
     "name": "stdout",
     "output_type": "stream",
     "text": [
      "Downloading data from https://www.cs.toronto.edu/~kriz/cifar-10-python.tar.gz\n",
      "170498071/170498071 [==============================] - 163s 1us/step\n"
     ]
    }
   ],
   "source": [
    "#Load and split dataset\n",
    "(train_images,train_labels), (test_images,test_labels) = datasets.cifar10.load_data()\n",
    "\n",
    "#Normalize pixel values to be between 0 and 1\n",
    "train_images, test_images = train_images/255, test_images/255\n",
    "\n",
    "class_names = ['airplane', 'automobile', 'bird', 'cat',\n",
    "              'deer', 'dog', 'frog', 'horse', 'ship', 'truck']"
   ]
  },
  {
   "cell_type": "code",
   "execution_count": 3,
   "id": "d7c865e1",
   "metadata": {},
   "outputs": [
    {
     "data": {
      "image/png": "[encoded data removed]",
      "text/plain": [
       "<Figure size 432x288 with 1 Axes>"
      ]
     },
     "metadata": {
      "needs_background": "light"
     },
     "output_type": "display_data"
    }
   ],
   "source": [
    "plt.imshow(train_images[2])\n",
    "plt.xlabel(class_names[train_labels[2][0]])\n",
    "plt.show()"
   ]
  },
  {
   "cell_type": "markdown",
   "id": "a95e6d53",
   "metadata": {},
   "source": [
    "CNN Architecture\n",
    "\n",
    "- We start by building the convolutional base"
   ]
  },
  {
   "cell_type": "code",
   "execution_count": 7,
   "id": "d29480bf",
   "metadata": {},
   "outputs": [],
   "source": [
    "model = models.Sequential()\n",
    "model.add(layers.Conv2D(32,(3,3),activation='relu', input_shape=(32,32,3)))\n",
    "model.add(layers.MaxPooling2D(pool_size = (2,2)))\n",
    "model.add(layers.Conv2D(64,(3,3), activation='relu'))\n",
    "model.add(layers.MaxPooling2D(pool_size = (2,2)))\n",
    "model.add(layers.Conv2D(64,(3,3), activation = 'relu'))"
   ]
  },
  {
   "cell_type": "markdown",
   "id": "34bd7c8f",
   "metadata": {},
   "source": [
    "Layer 1\n",
    "- The input shape of our data will be 32,32,3 and we will process 32 filters of shape 3x3 over our input data\n",
    "- We will also apply the activation function relu to the output of each convolution operation (after the dot product)"
   ]
  },
  {
   "cell_type": "markdown",
   "id": "d425ca46",
   "metadata": {},
   "source": [
    "Layer 2\n",
    "- This layer will perform maxpooling operation using 2x2 samples of stride 2"
   ]
  },
  {
   "cell_type": "markdown",
   "id": "330be727",
   "metadata": {},
   "source": [
    "Other layers\n",
    "- The next set of layers do very similar things but take as input the feature map from the previous layer. They also increase the frequency of filter from 32 to 64. Now our data shrinks in spatial dimensions as it is passed through the layers, meaning we can afford(computationaly) to add more depth"
   ]
  },
  {
   "cell_type": "code",
   "execution_count": 8,
   "id": "1a49fa5a",
   "metadata": {},
   "outputs": [
    {
     "name": "stdout",
     "output_type": "stream",
     "text": [
      "Model: \"sequential_3\"\n",
      "_________________________________________________________________\n",
      " Layer (type)                Output Shape              Param #   \n",
      "=================================================================\n",
      " conv2d_6 (Conv2D)           (None, 30, 30, 32)        896       \n",
      "                                                                 \n",
      " max_pooling2d_3 (MaxPooling  (None, 15, 15, 32)       0         \n",
      " 2D)                                                             \n",
      "                                                                 \n",
      " conv2d_7 (Conv2D)           (None, 13, 13, 64)        18496     \n",
      "                                                                 \n",
      " max_pooling2d_4 (MaxPooling  (None, 6, 6, 64)         0         \n",
      " 2D)                                                             \n",
      "                                                                 \n",
      " conv2d_8 (Conv2D)           (None, 4, 4, 64)          36928     \n",
      "                                                                 \n",
      "=================================================================\n",
      "Total params: 56,320\n",
      "Trainable params: 56,320\n",
      "Non-trainable params: 0\n",
      "_________________________________________________________________\n"
     ]
    }
   ],
   "source": [
    "model.summary()"
   ]
  },
  {
   "cell_type": "markdown",
   "id": "18a6e2e7",
   "metadata": {},
   "source": [
    "The summary shows that the depth our image increases but spatial dimensions decrease drastically"
   ]
  },
  {
   "cell_type": "markdown",
   "id": "8208826e",
   "metadata": {},
   "source": [
    "Adding Dense layers"
   ]
  },
  {
   "cell_type": "markdown",
   "id": "8c1fadb9",
   "metadata": {},
   "source": [
    "After completing the convo base, we need to take these extracted features and add a way to classify them. This is why we add the following layers to our model"
   ]
  },
  {
   "cell_type": "code",
   "execution_count": 9,
   "id": "8bd10348",
   "metadata": {},
   "outputs": [],
   "source": [
    "model.add(layers.Flatten())\n",
    "model.add(layers.Dense(64, activation='relu'))\n",
    "model.add(layers.Dense(10)) #output layer corresponding to 10 classes"
   ]
  },
  {
   "cell_type": "code",
   "execution_count": 10,
   "id": "ed387600",
   "metadata": {},
   "outputs": [
    {
     "name": "stdout",
     "output_type": "stream",
     "text": [
      "Model: \"sequential_3\"\n",
      "_________________________________________________________________\n",
      " Layer (type)                Output Shape              Param #   \n",
      "=================================================================\n",
      " conv2d_6 (Conv2D)           (None, 30, 30, 32)        896       \n",
      "                                                                 \n",
      " max_pooling2d_3 (MaxPooling  (None, 15, 15, 32)       0         \n",
      " 2D)                                                             \n",
      "                                                                 \n",
      " conv2d_7 (Conv2D)           (None, 13, 13, 64)        18496     \n",
      "                                                                 \n",
      " max_pooling2d_4 (MaxPooling  (None, 6, 6, 64)         0         \n",
      " 2D)                                                             \n",
      "                                                                 \n",
      " conv2d_8 (Conv2D)           (None, 4, 4, 64)          36928     \n",
      "                                                                 \n",
      " flatten (Flatten)           (None, 1024)              0         \n",
      "                                                                 \n",
      " dense (Dense)               (None, 64)                65600     \n",
      "                                                                 \n",
      " dense_1 (Dense)             (None, 10)                650       \n",
      "                                                                 \n",
      "=================================================================\n",
      "Total params: 122,570\n",
      "Trainable params: 122,570\n",
      "Non-trainable params: 0\n",
      "_________________________________________________________________\n"
     ]
    }
   ],
   "source": [
    "model.summary()"
   ]
  },
  {
   "cell_type": "markdown",
   "id": "2a4c0d8f",
   "metadata": {},
   "source": [
    "Training"
   ]
  },
  {
   "cell_type": "markdown",
   "id": "0e331989",
   "metadata": {},
   "source": [
    "Now, we will train and compile the model using recommended hyperparameters from tensorflow"
   ]
  },
  {
   "cell_type": "code",
   "execution_count": 12,
   "id": "b0713429",
   "metadata": {},
   "outputs": [
    {
     "name": "stdout",
     "output_type": "stream",
     "text": [
      "Epoch 1/10\n",
      "1563/1563 [==============================] - 85s 53ms/step - loss: 1.5168 - accuracy: 0.4490 - val_loss: 1.2720 - val_accuracy: 0.5465\n",
      "Epoch 2/10\n",
      "1563/1563 [==============================] - 78s 50ms/step - loss: 1.1472 - accuracy: 0.5951 - val_loss: 1.1003 - val_accuracy: 0.6140\n",
      "Epoch 3/10\n",
      "1563/1563 [==============================] - 73s 47ms/step - loss: 0.9915 - accuracy: 0.6509 - val_loss: 1.0310 - val_accuracy: 0.6378\n",
      "Epoch 4/10\n",
      "1563/1563 [==============================] - 71s 45ms/step - loss: 0.8960 - accuracy: 0.6865 - val_loss: 0.9584 - val_accuracy: 0.6697\n",
      "Epoch 5/10\n",
      "1563/1563 [==============================] - 70s 45ms/step - loss: 0.8230 - accuracy: 0.7119 - val_loss: 0.9153 - val_accuracy: 0.6842\n",
      "Epoch 6/10\n",
      "1563/1563 [==============================] - 72s 46ms/step - loss: 0.7674 - accuracy: 0.7308 - val_loss: 0.9046 - val_accuracy: 0.6904\n",
      "Epoch 7/10\n",
      "1563/1563 [==============================] - 81s 52ms/step - loss: 0.7194 - accuracy: 0.7462 - val_loss: 0.8569 - val_accuracy: 0.7020\n",
      "Epoch 8/10\n",
      "1563/1563 [==============================] - 90s 58ms/step - loss: 0.6757 - accuracy: 0.7617 - val_loss: 0.8674 - val_accuracy: 0.7093\n",
      "Epoch 9/10\n",
      "1563/1563 [==============================] - 97s 62ms/step - loss: 0.6382 - accuracy: 0.7750 - val_loss: 0.8413 - val_accuracy: 0.7213\n",
      "Epoch 10/10\n",
      "1563/1563 [==============================] - 88s 57ms/step - loss: 0.5995 - accuracy: 0.7883 - val_loss: 0.8572 - val_accuracy: 0.7195\n"
     ]
    }
   ],
   "source": [
    "model.compile(optimizer = 'adam',\n",
    "             loss = tf.keras.losses.SparseCategoricalCrossentropy(from_logits= True),\n",
    "             metrics=['accuracy'])\n",
    "\n",
    "history = model.fit(train_images, train_labels, epochs =10,\n",
    "                   validation_data=(test_images,test_labels))"
   ]
  },
  {
   "cell_type": "markdown",
   "id": "fd185f49",
   "metadata": {},
   "source": [
    "Evaluating the model"
   ]
  },
  {
   "cell_type": "code",
   "execution_count": 13,
   "id": "969185b5",
   "metadata": {},
   "outputs": [
    {
     "name": "stdout",
     "output_type": "stream",
     "text": [
      "313/313 - 3s - loss: 0.8572 - accuracy: 0.7195 - 3s/epoch - 10ms/step\n",
      "0.7195000052452087\n"
     ]
    }
   ],
   "source": [
    "test_loss, test_acc = model.evaluate(test_images, test_labels, verbose = 2)\n",
    "print(test_acc)"
   ]
  },
  {
   "cell_type": "markdown",
   "id": "a854c407",
   "metadata": {},
   "source": [
    "This accuracy isn't bad for a simple model like this"
   ]
  },
  {
   "cell_type": "code",
   "execution_count": null,
   "id": "958fcea2",
   "metadata": {},
   "outputs": [],
   "source": []
  }
 ],
 "metadata": {
  "kernelspec": {
   "display_name": "Python 3",
   "language": "python",
   "name": "python3"
  },
  "language_info": {
   "codemirror_mode": {
    "name": "ipython",
    "version": 3
   },
   "file_extension": ".py",
   "mimetype": "text/x-python",
   "name": "python",
   "nbconvert_exporter": "python",
   "pygments_lexer": "ipython3",
   "version": "3.8.8"
  }
 },
 "nbformat": 4,
 "nbformat_minor": 5
}
