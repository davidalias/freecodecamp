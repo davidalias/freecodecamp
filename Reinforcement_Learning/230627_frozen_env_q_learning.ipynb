{
 "cells": [
  {
   "cell_type": "markdown",
   "id": "a063648f",
   "metadata": {},
   "source": [
    "FrozenLake env. is one of the most simple environments in OpenAI Gym. The goal of the agent is to navigate a frozen lake and find the Goal without falling throufh the ice (render an environment to see an example)"
   ]
  },
  {
   "cell_type": "markdown",
   "id": "53ebcf90",
   "metadata": {},
   "source": [
    "There are:\n",
    "- 16 states(one for each square)\n",
    "- 4 possible actions (LEFT, RIGHT, DOWN, UP)\n",
    "- 4 different types of blocks (F:frozen, H:hole, S:start, G:goal)"
   ]
  },
  {
   "cell_type": "markdown",
   "id": "9e5d31b3",
   "metadata": {},
   "source": [
    "Building the Q-Table\n",
    "- The first thing we need to do is build an empty Q-Table that we can use to store and update our values"
   ]
  },
  {
   "cell_type": "code",
   "execution_count": 1,
   "id": "1ff03971",
   "metadata": {},
   "outputs": [],
   "source": [
    "import gym\n",
    "import numpy as np\n",
    "import time"
   ]
  },
  {
   "cell_type": "code",
   "execution_count": 2,
   "id": "3963d846",
   "metadata": {},
   "outputs": [],
   "source": [
    "env = gym.make('FrozenLake-v1')\n",
    "STATES = env.observation_space.n\n",
    "ACTIONS = env.action_space.n"
   ]
  },
  {
   "cell_type": "code",
   "execution_count": 3,
   "id": "59685384",
   "metadata": {},
   "outputs": [
    {
     "data": {
      "text/plain": [
       "array([[0., 0., 0., 0.],\n",
       "       [0., 0., 0., 0.],\n",
       "       [0., 0., 0., 0.],\n",
       "       [0., 0., 0., 0.],\n",
       "       [0., 0., 0., 0.],\n",
       "       [0., 0., 0., 0.],\n",
       "       [0., 0., 0., 0.],\n",
       "       [0., 0., 0., 0.],\n",
       "       [0., 0., 0., 0.],\n",
       "       [0., 0., 0., 0.],\n",
       "       [0., 0., 0., 0.],\n",
       "       [0., 0., 0., 0.],\n",
       "       [0., 0., 0., 0.],\n",
       "       [0., 0., 0., 0.],\n",
       "       [0., 0., 0., 0.],\n",
       "       [0., 0., 0., 0.]])"
      ]
     },
     "execution_count": 3,
     "metadata": {},
     "output_type": "execute_result"
    }
   ],
   "source": [
    "Q = np.zeros((STATES, ACTIONS)) #create a matrix with all zero values\n",
    "Q"
   ]
  },
  {
   "cell_type": "markdown",
   "id": "f4a931af",
   "metadata": {},
   "source": [
    "Constants \n",
    "- we need to define some constants that will be used to update our Q-Table and tell our agent when to stop training"
   ]
  },
  {
   "cell_type": "code",
   "execution_count": 4,
   "id": "5d432a02",
   "metadata": {},
   "outputs": [],
   "source": [
    "EPISODES = 1500 #how many times to run the environment from the beginning\n",
    "MAX_STEPS = 100 #max number of steps allowed for each run of the environment\n",
    "\n",
    "LEARNING_RATE = 0.81 #learning rate\n",
    "GAMMA = 0.96\n",
    "RENDER = False # if you want to draw the environment or not.\n"
   ]
  },
  {
   "cell_type": "markdown",
   "id": "79c1bcdb",
   "metadata": {},
   "source": [
    "Picking an Action,  there are two methds\n",
    "- Randomly picking a valid action\n",
    "- Using the current Q-Table to find the best action"
   ]
  },
  {
   "cell_type": "markdown",
   "id": "610711a9",
   "metadata": {},
   "source": [
    "we will a new value 'epsilon' that will tell us the probability of selecting a random action. This value will start off\n",
    "very high and slowly decreases as the agent starts to learn more about the environment"
   ]
  },
  {
   "cell_type": "markdown",
   "id": "5ef44b2a",
   "metadata": {},
   "source": [
    "epsilon = 0.9 #starts with a 90% chance of picking a random action\n",
    "\n",
    "- #code to pick action\n",
    "- if np.random.uniform(0,1) < epsilon: #we will check if a randomly selected value is less than epsilon\n",
    "    action = env.action_space.sample() #take random action\n",
    "- else:\n",
    "    action = np.argmax(Q[state,:])#use Q-table to pick best action based on current values"
   ]
  },
  {
   "cell_type": "code",
   "execution_count": 5,
   "id": "c8508e6f",
   "metadata": {},
   "outputs": [],
   "source": [
    "epsilon = 0.9 #starts with a 90% chance of picking a random action"
   ]
  },
  {
   "cell_type": "markdown",
   "id": "1f261f17",
   "metadata": {},
   "source": [
    "Updating Q values"
   ]
  },
  {
   "cell_type": "markdown",
   "id": "ca58d667",
   "metadata": {},
   "source": [
    "Q[state, action] = Q[state, action] + LEARNING RATE * (reward + GAMMA * np.max(Q[new_state,:]) - Q[state, action])"
   ]
  },
  {
   "cell_type": "code",
   "execution_count": 6,
   "id": "57473a1c",
   "metadata": {},
   "outputs": [
    {
     "name": "stdout",
     "output_type": "stream",
     "text": [
      "[[2.88538116e-01 2.81949589e-02 3.05803627e-02 3.19078328e-02]\n",
      " [1.56909781e-03 2.34482234e-02 1.06850272e-02 2.26731770e-01]\n",
      " [2.53069546e-02 2.39907406e-02 1.54213046e-02 2.36037990e-01]\n",
      " [1.07336261e-02 9.55161523e-03 2.06991891e-02 1.09579469e-01]\n",
      " [4.13170701e-01 2.22174049e-02 1.98862603e-02 4.25288279e-03]\n",
      " [0.00000000e+00 0.00000000e+00 0.00000000e+00 0.00000000e+00]\n",
      " [1.73534846e-04 1.35522600e-04 2.92656909e-02 2.49031039e-04]\n",
      " [0.00000000e+00 0.00000000e+00 0.00000000e+00 0.00000000e+00]\n",
      " [4.95873904e-03 1.52961545e-02 5.23188646e-04 6.32407512e-01]\n",
      " [1.49174467e-02 7.36773453e-01 6.33389639e-04 5.67424333e-03]\n",
      " [6.23732953e-01 1.04498370e-03 4.01832286e-03 2.89987432e-03]\n",
      " [0.00000000e+00 0.00000000e+00 0.00000000e+00 0.00000000e+00]\n",
      " [0.00000000e+00 0.00000000e+00 0.00000000e+00 0.00000000e+00]\n",
      " [8.23163794e-02 1.19158104e-01 5.15735871e-01 1.00361473e-01]\n",
      " [1.61197690e-01 9.11095493e-01 1.63358189e-01 1.40544049e-01]\n",
      " [0.00000000e+00 0.00000000e+00 0.00000000e+00 0.00000000e+00]]\n",
      "Average Reward: 0.32582688247712877:\n"
     ]
    }
   ],
   "source": [
    "rewards = []\n",
    "for episode in range(EPISODES):\n",
    "    state = env.reset()[0]\n",
    "    for _ in range(MAX_STEPS):\n",
    "        if RENDER:\n",
    "            env.render()\n",
    "            \n",
    "        if np.random.uniform(0,1) < epsilon:\n",
    "            action = env.action_space.sample()\n",
    "        else:\n",
    "            action = np.argmax(Q[state, :])\n",
    "        \n",
    "        next_state, reward, done, _, _ = env.step(action)\n",
    "        \n",
    "        Q[state, action] = Q[state, action] + LEARNING_RATE * (reward + GAMMA * np.max(Q[next_state,:]) - Q[state, action])\n",
    "        \n",
    "        state = next_state\n",
    "        \n",
    "        if done:\n",
    "            rewards.append(reward)\n",
    "            epsilon -= 0.001\n",
    "            break #reached goal\n",
    "            \n",
    "print(Q)\n",
    "print(f\"Average Reward: {sum(rewards)/len(rewards)}:\")"
   ]
  },
  {
   "cell_type": "code",
   "execution_count": 11,
   "id": "a9a3c7d2",
   "metadata": {},
   "outputs": [
    {
     "data": {
      "image/png": "[encoded data removed]",
      "text/plain": [
       "<Figure size 432x288 with 1 Axes>"
      ]
     },
     "metadata": {
      "needs_background": "light"
     },
     "output_type": "display_data"
    }
   ],
   "source": [
    "#we can plot the training progress and see how the agent improved\n",
    "\n",
    "import matplotlib.pyplot as plt\n",
    "\n",
    "def get_average(values):\n",
    "    return sum(values)/len(values)\n",
    "\n",
    "avg_rewards = []\n",
    "for i in range(0, len(rewards), 100):\n",
    "    avg_rewards.append(get_average(rewards[i:i+100]))\n",
    "    \n",
    "plt.plot(avg_rewards)\n",
    "plt.ylabel('average reward')\n",
    "plt.xlabel(\"episodes(100's)\")\n",
    "plt.show() "
   ]
  },
  {
   "cell_type": "code",
   "execution_count": null,
   "id": "7f46359b",
   "metadata": {},
   "outputs": [],
   "source": []
  }
 ],
 "metadata": {
  "kernelspec": {
   "display_name": "Python 3",
   "language": "python",
   "name": "python3"
  },
  "language_info": {
   "codemirror_mode": {
    "name": "ipython",
    "version": 3
   },
   "file_extension": ".py",
   "mimetype": "text/x-python",
   "name": "python",
   "nbconvert_exporter": "python",
   "pygments_lexer": "ipython3",
   "version": "3.8.8"
  }
 },
 "nbformat": 4,
 "nbformat_minor": 5
}
