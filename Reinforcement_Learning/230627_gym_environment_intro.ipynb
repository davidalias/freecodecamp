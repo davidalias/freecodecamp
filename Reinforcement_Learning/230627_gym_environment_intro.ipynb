{
 "cells": [
  {
   "cell_type": "code",
   "execution_count": 1,
   "id": "8091c933",
   "metadata": {},
   "outputs": [],
   "source": [
    "import gym"
   ]
  },
  {
   "cell_type": "markdown",
   "id": "cfb56b76",
   "metadata": {},
   "source": [
    "Once you import gym, you can load environment using the following line:"
   ]
  },
  {
   "cell_type": "code",
   "execution_count": 2,
   "id": "ccec1228",
   "metadata": {},
   "outputs": [],
   "source": [
    "env = gym.make('FrozenLake-v1') # we will be using Frozenlake environment"
   ]
  },
  {
   "cell_type": "markdown",
   "id": "6816277d",
   "metadata": {},
   "source": [
    "There are few commands that can be used to interact and get information about the environment"
   ]
  },
  {
   "cell_type": "code",
   "execution_count": 3,
   "id": "19303a72",
   "metadata": {},
   "outputs": [
    {
     "name": "stdout",
     "output_type": "stream",
     "text": [
      "16\n",
      "4\n"
     ]
    }
   ],
   "source": [
    "print(env.observation_space.n) #get number of states\n",
    "print(env.action_space.n) #get number of actions"
   ]
  },
  {
   "cell_type": "code",
   "execution_count": 4,
   "id": "e1eb79c8",
   "metadata": {},
   "outputs": [
    {
     "data": {
      "text/plain": [
       "(0, {'prob': 1})"
      ]
     },
     "execution_count": 4,
     "metadata": {},
     "output_type": "execute_result"
    }
   ],
   "source": [
    "env.reset() #reset environment to default state"
   ]
  },
  {
   "cell_type": "code",
   "execution_count": 5,
   "id": "5babdb79",
   "metadata": {},
   "outputs": [
    {
     "name": "stdout",
     "output_type": "stream",
     "text": [
      "2\n"
     ]
    }
   ],
   "source": [
    "action = env.action_space.sample() #get a random action\n",
    "print(action)"
   ]
  },
  {
   "cell_type": "code",
   "execution_count": 6,
   "id": "32d83c02",
   "metadata": {},
   "outputs": [],
   "source": [
    "new_state, reward, done, done1, info = env.step(action) #take action, notice it returns information about the action"
   ]
  },
  {
   "cell_type": "code",
   "execution_count": 7,
   "id": "e0ad6f9d",
   "metadata": {},
   "outputs": [
    {
     "name": "stdout",
     "output_type": "stream",
     "text": [
      "4 0.0 False False {'prob': 0.3333333333333333}\n"
     ]
    }
   ],
   "source": [
    "print(new_state, reward, done, done1, info)"
   ]
  },
  {
   "cell_type": "code",
   "execution_count": 8,
   "id": "e513722d",
   "metadata": {},
   "outputs": [
    {
     "name": "stderr",
     "output_type": "stream",
     "text": [
      "/Users/mathews/opt/anaconda3/lib/python3.8/site-packages/gym/envs/toy_text/frozen_lake.py:271: UserWarning: \u001b[33mWARN: You are calling render method without specifying any render mode. You can specify the render_mode at initialization, e.g. gym(\"FrozenLake-v1\", render_mode=\"rgb_array\")\u001b[0m\n",
      "  logger.warn(\n"
     ]
    }
   ],
   "source": [
    "env.render() #render GUI for the environment"
   ]
  },
  {
   "cell_type": "code",
   "execution_count": null,
   "id": "4e7da2f9",
   "metadata": {},
   "outputs": [],
   "source": []
  }
 ],
 "metadata": {
  "kernelspec": {
   "display_name": "Python 3",
   "language": "python",
   "name": "python3"
  },
  "language_info": {
   "codemirror_mode": {
    "name": "ipython",
    "version": 3
   },
   "file_extension": ".py",
   "mimetype": "text/x-python",
   "name": "python",
   "nbconvert_exporter": "python",
   "pygments_lexer": "ipython3",
   "version": "3.8.8"
  }
 },
 "nbformat": 4,
 "nbformat_minor": 5
}
