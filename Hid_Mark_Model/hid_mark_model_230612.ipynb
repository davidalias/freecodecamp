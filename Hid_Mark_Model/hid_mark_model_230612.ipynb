{
 "cells": [
  {
   "cell_type": "code",
   "execution_count": 1,
   "id": "f9bb829f",
   "metadata": {},
   "outputs": [],
   "source": [
    "import tensorflow_probability as tfp\n",
    "import tensorflow as tf"
   ]
  },
  {
   "cell_type": "code",
   "execution_count": 2,
   "id": "17287db7",
   "metadata": {},
   "outputs": [
    {
     "name": "stdout",
     "output_type": "stream",
     "text": [
      "2.11.1\n"
     ]
    }
   ],
   "source": [
    "print(tf.__version__)"
   ]
  },
  {
   "cell_type": "markdown",
   "id": "0bb2530d",
   "metadata": {},
   "source": [
    "- Colddays are encoded as 0 and hot days as 1 \\n\n",
    "- The first day in our sequence has an 80% chance of being cold\n",
    "- A cold day has a 30% chance of being followed by a hot day\n",
    "- A hot day has a 20% chance of being followed by a cold day\n",
    "- On each day, the temperature is normally distributed with mean and s.d. as 0 and 5 on a cold day,\n",
    "   and mean and s.d. as 15 and 10 on a hot day."
   ]
  },
  {
   "cell_type": "code",
   "execution_count": 6,
   "id": "857f519b",
   "metadata": {},
   "outputs": [],
   "source": [
    "tfd = tfp.distributions #creating shortcut\n",
    "initial_distribution = tfd.Categorical(probs=[0.8,0.2]) #first day (0 for cold day, 1 for hot day)\n",
    "transition_distribution  = tfd.Categorical(probs=[[0.7,0.3], \n",
    "                                                   [0.2,0.8]])\n",
    "observation_distribution = tfd.Normal(loc=[0,15], scale=[5,10]) #loc = mean, scale = s.d."
   ]
  },
  {
   "cell_type": "code",
   "execution_count": 7,
   "id": "8a58bb70",
   "metadata": {},
   "outputs": [
    {
     "name": "stdout",
     "output_type": "stream",
     "text": [
      "0.14.0\n"
     ]
    }
   ],
   "source": [
    "print(tfp.__version__)"
   ]
  },
  {
   "cell_type": "code",
   "execution_count": 8,
   "id": "47ddfde6",
   "metadata": {},
   "outputs": [],
   "source": [
    "model = tfd.HiddenMarkovModel(initial_distribution=initial_distribution,\n",
    "                             transition_distribution=transition_distribution,\n",
    "                             observation_distribution=observation_distribution,\n",
    "                             num_steps=7) #num_steps is how many days we want to predict"
   ]
  },
  {
   "cell_type": "markdown",
   "id": "33dbacbf",
   "metadata": {},
   "source": [
    "The number of steps represent the number of days that we would like to predict information for. In this case, we have chosen an entire week.\n",
    "\n",
    "We can do the following to get the expected temperature on each day"
   ]
  },
  {
   "cell_type": "code",
   "execution_count": 9,
   "id": "5a9a4d92",
   "metadata": {},
   "outputs": [
    {
     "name": "stdout",
     "output_type": "stream",
     "text": [
      "[3.        5.9999995 7.4999995 8.25      8.625     8.812501  8.90625  ]\n"
     ]
    }
   ],
   "source": [
    "mean = model.mean() \n",
    "# due to the way tensorflow works on a lower level, we need to evaluate part of the graph from within a session\n",
    "# to see the value of this tensor\n",
    "\n",
    "# In the new version of tf, we need to use tf.compat.v1.Session() rather than just tf.Session()\n",
    "with tf.compat.v1.Session() as sess:\n",
    "    print(mean.numpy())"
   ]
  },
  {
   "cell_type": "code",
   "execution_count": null,
   "id": "a8046fe1",
   "metadata": {},
   "outputs": [],
   "source": []
  }
 ],
 "metadata": {
  "kernelspec": {
   "display_name": "Python 3",
   "language": "python",
   "name": "python3"
  },
  "language_info": {
   "codemirror_mode": {
    "name": "ipython",
    "version": 3
   },
   "file_extension": ".py",
   "mimetype": "text/x-python",
   "name": "python",
   "nbconvert_exporter": "python",
   "pygments_lexer": "ipython3",
   "version": "3.8.8"
  }
 },
 "nbformat": 4,
 "nbformat_minor": 5
}
